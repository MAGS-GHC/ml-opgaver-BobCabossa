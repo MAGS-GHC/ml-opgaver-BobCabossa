{
  "cells": [
    {
      "cell_type": "markdown",
      "metadata": {
        "id": "TL5y5fY9Jy_x"
      },
      "source": [
        "# Binary Classification\n",
        "\n",
        "So far, you've only created regression models. That is, you created models that produced floating-point predictions, such as, \"houses in this neighborhood costs N thousand dollars.\" In this Colab, you'll create and evaluate a binary [classification model](https://developers.google.com/machine-learning/glossary/#classification_model).  That is, you'll create a model that answers a binary question. In this exercise, the binary question will be, \"Are houses in this neighborhood above a certain price?\"\n",
        "\n",
        "\n",
        "\n"
      ]
    },
    {
      "cell_type": "markdown",
      "metadata": {
        "id": "yuw8rRl9lNuL"
      },
      "source": [
        "## Learning Objectives:\n",
        "\n",
        "After doing this Colab, you'll know how to:\n",
        "\n",
        "  * Convert a regression question into a classification question.\n",
        "  * Modify the classification threshold and determine how that modification influences the model.\n",
        "  * Experiment with different classification metrics to determine your model's effectiveness."
      ]
    },
    {
      "cell_type": "markdown",
      "metadata": {
        "id": "44OdC-OglN9D"
      },
      "source": [
        "## The Dataset\n",
        "  \n",
        "Like several of the previous Colabs, this Colab uses the [California Housing Dataset](https://developers.google.com/machine-learning/crash-course/california-housing-data-description)."
      ]
    },
    {
      "cell_type": "markdown",
      "metadata": {
        "id": "5iuw6-JOGf7I"
      },
      "source": [
        "## Call the import statements\n",
        "\n",
        "The following code imports the necessary modules."
      ]
    },
    {
      "cell_type": "code",
      "execution_count": 1,
      "metadata": {
        "cellView": "form",
        "id": "9n9_cTveKmse"
      },
      "outputs": [
        {
          "name": "stdout",
          "output_type": "stream",
          "text": [
            "WARNING:tensorflow:From C:\\Users\\Kasper K. Lassen\\AppData\\Local\\Packages\\PythonSoftwareFoundation.Python.3.11_qbz5n2kfra8p0\\LocalCache\\local-packages\\Python311\\site-packages\\keras\\src\\losses.py:2976: The name tf.losses.sparse_softmax_cross_entropy is deprecated. Please use tf.compat.v1.losses.sparse_softmax_cross_entropy instead.\n",
            "\n",
            "Ran the import statements.\n"
          ]
        }
      ],
      "source": [
        "#@title Load the imports\n",
        "\n",
        "import numpy as np\n",
        "import pandas as pd\n",
        "import tensorflow as tf\n",
        "from tensorflow.keras import layers\n",
        "from matplotlib import pyplot as plt\n",
        "\n",
        "# The following lines adjust the granularity of reporting.\n",
        "pd.options.display.max_rows = 10\n",
        "pd.options.display.float_format = \"{:.1f}\".format\n",
        "# tf.keras.backend.set_floatx('float32')\n",
        "\n",
        "print(\"Ran the import statements.\")"
      ]
    },
    {
      "cell_type": "markdown",
      "metadata": {
        "id": "X_TaJhU4KcuY"
      },
      "source": [
        "## Load the datasets from the internet\n",
        "\n",
        "The following code cell loads the separate .csv files and creates the following two pandas DataFrames:\n",
        "\n",
        "* `train_df`, which contains the training set\n",
        "* `test_df`, which contains the test set"
      ]
    },
    {
      "cell_type": "code",
      "execution_count": 2,
      "metadata": {
        "id": "JZlvdpyYKx7V"
      },
      "outputs": [],
      "source": [
        "train_df = pd.read_csv(\"https://download.mlcc.google.com/mledu-datasets/california_housing_train.csv\")\n",
        "test_df = pd.read_csv(\"https://download.mlcc.google.com/mledu-datasets/california_housing_test.csv\")\n",
        "train_df = train_df.reindex(np.random.permutation(train_df.index)) # shuffle the training set"
      ]
    },
    {
      "cell_type": "markdown",
      "metadata": {
        "id": "q_vuAQq0Cvrp"
      },
      "source": [
        "Unlike some of the previous Colabs, the preceding code cell did not scale the label (`median_house_value`).  The following section (\"Normalize values\") provides an alternative approach."
      ]
    },
    {
      "cell_type": "markdown",
      "metadata": {
        "id": "_G6y-XcEmk6r"
      },
      "source": [
        "## Normalize values\n",
        "\n",
        "When creating a model with multiple features, the values of each feature should cover roughly the same range.  For example, if one feature's range spans 500 to 100,000 and another feature's range spans 2 to 12, then the model will be difficult or impossible to train. Therefore, you should\n",
        "[normalize](https://developers.google.com/machine-learning/glossary/#normalization) features in a multi-feature model.\n",
        "\n",
        "The following code cell normalizes datasets by converting each raw value (including the label) to its Z-score. A **Z-score** is the number of standard deviations from the mean for a particular raw value. For example, consider a feature having the following characteristics:\n",
        "\n",
        "  * The mean is 60.\n",
        "  * The standard deviation is 10.\n",
        "\n",
        "The raw value 75 would have a Z-score of +1.5:\n",
        "\n",
        "```\n",
        "  Z-score = (75 - 60) / 10 = +1.5\n",
        "```\n",
        "\n",
        "The raw value 38 would have a Z-score of -2.2:\n",
        "\n",
        "```\n",
        "  Z-score = (38 - 60) / 10 = -2.2\n",
        "```"
      ]
    },
    {
      "cell_type": "code",
      "execution_count": 3,
      "metadata": {
        "id": "n7nuAHoZIgVI"
      },
      "outputs": [
        {
          "data": {
            "text/html": [
              "<div>\n",
              "<style scoped>\n",
              "    .dataframe tbody tr th:only-of-type {\n",
              "        vertical-align: middle;\n",
              "    }\n",
              "\n",
              "    .dataframe tbody tr th {\n",
              "        vertical-align: top;\n",
              "    }\n",
              "\n",
              "    .dataframe thead th {\n",
              "        text-align: right;\n",
              "    }\n",
              "</style>\n",
              "<table border=\"1\" class=\"dataframe\">\n",
              "  <thead>\n",
              "    <tr style=\"text-align: right;\">\n",
              "      <th></th>\n",
              "      <th>longitude</th>\n",
              "      <th>latitude</th>\n",
              "      <th>housing_median_age</th>\n",
              "      <th>total_rooms</th>\n",
              "      <th>total_bedrooms</th>\n",
              "      <th>population</th>\n",
              "      <th>households</th>\n",
              "      <th>median_income</th>\n",
              "      <th>median_house_value</th>\n",
              "    </tr>\n",
              "  </thead>\n",
              "  <tbody>\n",
              "    <tr>\n",
              "      <th>7037</th>\n",
              "      <td>0.6</td>\n",
              "      <td>-0.9</td>\n",
              "      <td>0.6</td>\n",
              "      <td>-0.4</td>\n",
              "      <td>-0.6</td>\n",
              "      <td>-0.5</td>\n",
              "      <td>-0.5</td>\n",
              "      <td>0.6</td>\n",
              "      <td>1.4</td>\n",
              "    </tr>\n",
              "    <tr>\n",
              "      <th>9704</th>\n",
              "      <td>-0.0</td>\n",
              "      <td>0.2</td>\n",
              "      <td>-0.6</td>\n",
              "      <td>-0.3</td>\n",
              "      <td>-0.4</td>\n",
              "      <td>-0.0</td>\n",
              "      <td>-0.3</td>\n",
              "      <td>-0.9</td>\n",
              "      <td>-1.3</td>\n",
              "    </tr>\n",
              "    <tr>\n",
              "      <th>11340</th>\n",
              "      <td>-0.8</td>\n",
              "      <td>1.4</td>\n",
              "      <td>-0.2</td>\n",
              "      <td>-0.3</td>\n",
              "      <td>-0.6</td>\n",
              "      <td>-0.6</td>\n",
              "      <td>-0.6</td>\n",
              "      <td>1.2</td>\n",
              "      <td>-0.2</td>\n",
              "    </tr>\n",
              "    <tr>\n",
              "      <th>9654</th>\n",
              "      <td>0.0</td>\n",
              "      <td>-0.5</td>\n",
              "      <td>-0.0</td>\n",
              "      <td>0.4</td>\n",
              "      <td>0.1</td>\n",
              "      <td>-0.1</td>\n",
              "      <td>-0.0</td>\n",
              "      <td>1.2</td>\n",
              "      <td>2.5</td>\n",
              "    </tr>\n",
              "    <tr>\n",
              "      <th>1860</th>\n",
              "      <td>1.1</td>\n",
              "      <td>-1.3</td>\n",
              "      <td>0.5</td>\n",
              "      <td>-0.6</td>\n",
              "      <td>-0.8</td>\n",
              "      <td>-0.8</td>\n",
              "      <td>-0.8</td>\n",
              "      <td>2.2</td>\n",
              "      <td>2.5</td>\n",
              "    </tr>\n",
              "  </tbody>\n",
              "</table>\n",
              "</div>"
            ],
            "text/plain": [
              "       longitude  latitude  housing_median_age  total_rooms  total_bedrooms  \\\n",
              "7037         0.6      -0.9                 0.6         -0.4            -0.6   \n",
              "9704        -0.0       0.2                -0.6         -0.3            -0.4   \n",
              "11340       -0.8       1.4                -0.2         -0.3            -0.6   \n",
              "9654         0.0      -0.5                -0.0          0.4             0.1   \n",
              "1860         1.1      -1.3                 0.5         -0.6            -0.8   \n",
              "\n",
              "       population  households  median_income  median_house_value  \n",
              "7037         -0.5        -0.5            0.6                 1.4  \n",
              "9704         -0.0        -0.3           -0.9                -1.3  \n",
              "11340        -0.6        -0.6            1.2                -0.2  \n",
              "9654         -0.1        -0.0            1.2                 2.5  \n",
              "1860         -0.8        -0.8            2.2                 2.5  "
            ]
          },
          "execution_count": 3,
          "metadata": {},
          "output_type": "execute_result"
        }
      ],
      "source": [
        "# Calculate the Z-scores of each column in the training set and\n",
        "# write those Z-scores into a new pandas DataFrame named train_df_norm.\n",
        "train_df_mean = train_df.mean()\n",
        "train_df_std = train_df.std()\n",
        "train_df_norm = (train_df - train_df_mean)/train_df_std\n",
        "\n",
        "# Examine some of the values of the normalized training set. Notice that most\n",
        "# Z-scores fall between -2 and +2.\n",
        "train_df_norm.head()"
      ]
    },
    {
      "cell_type": "code",
      "execution_count": 4,
      "metadata": {
        "id": "QoW-59jVFF2I"
      },
      "outputs": [],
      "source": [
        "# Calculate the Z-scores of each column in the test set and\n",
        "# write those Z-scores into a new pandas DataFrame named test_df_norm.\n",
        "test_df_norm = (test_df - train_df_mean) / train_df_std\n",
        "\n",
        "# Note that we transform the test data with the values calculated from the training set,\n",
        "# as you should always transform your datasets with exactly the same values."
      ]
    },
    {
      "cell_type": "markdown",
      "metadata": {
        "id": "-swmXtWnZGis"
      },
      "source": [
        "## Task 1: Create a binary label\n",
        "\n",
        "In classification problems, the label for every example must be either 0 or 1. Unfortunately, the natural label in the California Housing Dataset, `median_house_value`, contains floating-point values like 80,100 or 85,700 rather than 0s and 1s, while the normalized version of `median_house_values` contains floating-point values primarily between -3 and +3.\n",
        "\n",
        "Your task is to create a new column named `median_house_value_is_high` in both the training set and the test set . If the `median_house_value` is higher than a certain arbitrary value (defined by `threshold`), then set `median_house_value_is_high` to 1. Otherwise, set `median_house_value_is_high` to 0.\n",
        "\n",
        "**Hint:** The cells in the `median_house_value_is_high` column must each hold `1` and `0`, not `True` and `False`. To convert `True` and `False` to  `1` and `0`, call the pandas DataFrame function `astype(float)`."
      ]
    },
    {
      "cell_type": "code",
      "execution_count": 5,
      "metadata": {
        "id": "d4kWfWA8bhKW"
      },
      "outputs": [
        {
          "data": {
            "text/plain": [
              "7037    1.0\n",
              "9704    0.0\n",
              "11340   0.0\n",
              "9654    1.0\n",
              "1860    1.0\n",
              "         ..\n",
              "9058    0.0\n",
              "12955   0.0\n",
              "5339    0.0\n",
              "9651    0.0\n",
              "8199    0.0\n",
              "Name: median_house_value_is_high, Length: 8000, dtype: float64"
            ]
          },
          "execution_count": 5,
          "metadata": {},
          "output_type": "execute_result"
        }
      ],
      "source": [
        "threshold = 265000 # This is the 75th percentile for median house values.\n",
        "train_df_norm[\"median_house_value_is_high\"] = (train_df['median_house_value'] > threshold).astype(\"float\")\n",
        "test_df_norm[\"median_house_value_is_high\"] = (test_df['median_house_value'] > threshold).astype(\"float\")\n",
        "\n",
        "# Print out a few example cells from the beginning and\n",
        "# middle of the training set, just to make sure that\n",
        "# your code created only 0s and 1s in the newly created\n",
        "# median_house_value_is_high column\n",
        "train_df_norm[\"median_house_value_is_high\"].head(8000)"
      ]
    },
    {
      "cell_type": "code",
      "execution_count": 6,
      "metadata": {
        "id": "b8b2fNmHO-iU"
      },
      "outputs": [
        {
          "data": {
            "text/plain": [
              "7037    1.0\n",
              "9704    0.0\n",
              "11340   0.0\n",
              "9654    1.0\n",
              "1860    1.0\n",
              "         ..\n",
              "9058    0.0\n",
              "12955   0.0\n",
              "5339    0.0\n",
              "9651    0.0\n",
              "8199    0.0\n",
              "Name: median_house_value_is_high, Length: 8000, dtype: float64"
            ]
          },
          "execution_count": 6,
          "metadata": {},
          "output_type": "execute_result"
        }
      ],
      "source": [
        "#@title Double-click for possible solutions.\n",
        "\n",
        "# We arbitrarily set the threshold to 265,000, which is\n",
        "# the 75th percentile for median house values.  Every neighborhood\n",
        "# with a median house price above 265,000 will be labeled 1,\n",
        "# and all other neighborhoods will be labeled 0.\n",
        "threshold = 265000\n",
        "train_df_norm[\"median_house_value_is_high\"] = (train_df[\"median_house_value\"] > threshold).astype(float)\n",
        "test_df_norm[\"median_house_value_is_high\"] = (test_df[\"median_house_value\"] > threshold).astype(float)\n",
        "train_df_norm[\"median_house_value_is_high\"].head(8000)\n",
        "\n",
        "\n",
        "# Alternatively, instead of picking the threshold\n",
        "# based on raw house values, you can work with Z-scores.\n",
        "# For example, the following possible solution uses a Z-score\n",
        "# of +1.0 as the threshold, meaning that no more\n",
        "# than 16% of the values in median_house_value_is_high\n",
        "# will be labeled 1.\n",
        "\n",
        "# threshold_in_Z = 1.0\n",
        "# train_df_norm[\"median_house_value_is_high\"] = (train_df_norm[\"median_house_value\"] > threshold_in_Z).astype(float)\n",
        "# test_df_norm[\"median_house_value_is_high\"] = (test_df_norm[\"median_house_value\"] > threshold_in_Z).astype(float)\n"
      ]
    },
    {
      "cell_type": "markdown",
      "metadata": {
        "id": "8kir8UTUXSV8"
      },
      "source": [
        "## Represent features as input layers\n",
        "\n",
        "This code cell specifies the features, `median_income` and ` total_rooms`, that you'll ultimately train the model on. These [Input](https://www.tensorflow.org/api_docs/python/tf/keras/Input) objects are instantiated as Keras tensors."
      ]
    },
    {
      "cell_type": "code",
      "execution_count": 7,
      "metadata": {
        "id": "3tmmZIDw4JEC"
      },
      "outputs": [
        {
          "name": "stdout",
          "output_type": "stream",
          "text": [
            "WARNING:tensorflow:From C:\\Users\\Kasper K. Lassen\\AppData\\Local\\Packages\\PythonSoftwareFoundation.Python.3.11_qbz5n2kfra8p0\\LocalCache\\local-packages\\Python311\\site-packages\\keras\\src\\backend.py:1398: The name tf.executing_eagerly_outside_functions is deprecated. Please use tf.compat.v1.executing_eagerly_outside_functions instead.\n",
            "\n"
          ]
        }
      ],
      "source": [
        "inputs = {\n",
        "# Features used to train the model on.\n",
        "  'median_income': tf.keras.Input(shape=(1,)),\n",
        "  'total_rooms': tf.keras.Input(shape=(1,))\n",
        "}\n"
      ]
    },
    {
      "cell_type": "markdown",
      "metadata": {
        "id": "3014ezH3C7jT"
      },
      "source": [
        "## Define functions that build and train a model\n",
        "\n",
        "The following code cell defines two functions:\n",
        "\n",
        "  * `create_model(inputs, learning_rate, METRICS)`, which defines the model's\n",
        "    topography.\n",
        "  * `train_model(model, dataset, epochs, label_name, batch_size, shuffle)`, uses input features and labels to train the model.\n",
        "\n",
        "Prior exercises used [ReLU](https://developers.google.com/machine-learning/glossary#ReLU) as the [activation function](https://developers.google.com/machine-learning/glossary#activation-function). By contrast, this exercise uses [sigmoid](https://developers.google.com/machine-learning/glossary#sigmoid-function) as the activation function."
      ]
    },
    {
      "cell_type": "code",
      "execution_count": 8,
      "metadata": {
        "id": "pedD5GhlDC-y"
      },
      "outputs": [
        {
          "name": "stdout",
          "output_type": "stream",
          "text": [
            "Defined the create_model and train_model functions.\n"
          ]
        }
      ],
      "source": [
        "#@title Define the functions that create and train a model.\n",
        "def create_model(my_inputs, my_learning_rate, METRICS):\n",
        "  # Use a Concatenate layer to concatenate the input layers into a single tensor.\n",
        "  # as input for the Dense layer. Ex: [input_1[0][0], input_2[0][0]]\n",
        "  concatenated_inputs = tf.keras.layers.Concatenate()(my_inputs.values())\n",
        "  dense = layers.Dense(units=1, name='dense_layer', activation=tf.sigmoid)\n",
        "  dense_output = dense(concatenated_inputs)\n",
        "  \"\"\"Create and compile a simple classification model.\"\"\"\n",
        "  my_outputs = {\n",
        "    'dense': dense_output,\n",
        "  }\n",
        "  model = tf.keras.Model(inputs=my_inputs, outputs=my_outputs)\n",
        "\n",
        "  # Call the compile method to construct the layers into a model that\n",
        "  # TensorFlow can execute.  Notice that we're using a different loss\n",
        "  # function for classification than for regression.\n",
        "  model.compile(optimizer=tf.keras.optimizers.experimental.RMSprop(learning_rate=my_learning_rate),\n",
        "                loss=tf.keras.losses.BinaryCrossentropy(),\n",
        "                metrics=METRICS)\n",
        "  return model\n",
        "\n",
        "\n",
        "def train_model(model, dataset, epochs, label_name,\n",
        "                batch_size=None, shuffle=True):\n",
        "  \"\"\"Feed a dataset into the model in order to train it.\"\"\"\n",
        "\n",
        "  # The x parameter of tf.keras.Model.fit can be a list of arrays, where\n",
        "  # each array contains the data for one feature.  Here, we're passing\n",
        "  # every column in the dataset. Note that the feature_layer will filter\n",
        "  # away most of those columns, leaving only the desired columns and their\n",
        "  # representations as features.\n",
        "  features = {name:np.array(value) for name, value in dataset.items()}\n",
        "  label = np.array(features.pop(label_name))\n",
        "  history = model.fit(x=features, y=label, batch_size=batch_size,\n",
        "                      epochs=epochs, shuffle=shuffle)\n",
        "\n",
        "  # The list of epochs is stored separately from the rest of history.\n",
        "  epochs = history.epoch\n",
        "\n",
        "  # Isolate the classification metric for each epoch.\n",
        "  hist = pd.DataFrame(history.history)\n",
        "\n",
        "  return epochs, hist\n",
        "\n",
        "print(\"Defined the create_model and train_model functions.\")"
      ]
    },
    {
      "cell_type": "markdown",
      "metadata": {
        "id": "Ak_TMAzGOIFq"
      },
      "source": [
        "## Define a plotting function\n",
        "\n",
        "The following [matplotlib](https://developers.google.com/machine-learning/glossary/#matplotlib) function plots one or more curves, showing how various classification metrics change with each epoch."
      ]
    },
    {
      "cell_type": "code",
      "execution_count": 9,
      "metadata": {
        "cellView": "form",
        "id": "QF0BFRXTOeR3"
      },
      "outputs": [
        {
          "name": "stdout",
          "output_type": "stream",
          "text": [
            "Defined the plot_curve function.\n"
          ]
        }
      ],
      "source": [
        "#@title Define the plotting function.\n",
        "def plot_curve(epochs, hist, list_of_metrics):\n",
        "  \"\"\"Plot a curve of one or more classification metrics vs. epoch.\"\"\"\n",
        "  # list_of_metrics should be one of the names shown in:\n",
        "  # https://www.tensorflow.org/tutorials/structured_data/imbalanced_data#define_the_model_and_metrics\n",
        "\n",
        "  plt.figure()\n",
        "  plt.xlabel(\"Epoch\")\n",
        "  plt.ylabel(\"Value\")\n",
        "\n",
        "  for m in list_of_metrics:\n",
        "    x = hist[m]\n",
        "    plt.plot(epochs[1:], x[1:], label=m)\n",
        "\n",
        "  plt.legend()\n",
        "\n",
        "print(\"Defined the plot_curve function.\")"
      ]
    },
    {
      "cell_type": "markdown",
      "metadata": {
        "id": "D-IXYVfvM4gD"
      },
      "source": [
        "## Invoke the creating, training, and plotting functions\n",
        "\n",
        "The following code cell calls specify the hyperparameters, and then invokes the\n",
        "functions to create and train the model, and then to plot the results."
      ]
    },
    {
      "cell_type": "code",
      "execution_count": 10,
      "metadata": {
        "cellView": "both",
        "id": "nj3v5EKQFY8s"
      },
      "outputs": [
        {
          "name": "stdout",
          "output_type": "stream",
          "text": [
            "Epoch 1/20\n"
          ]
        },
        {
          "name": "stderr",
          "output_type": "stream",
          "text": [
            "C:\\Users\\Kasper K. Lassen\\AppData\\Local\\Packages\\PythonSoftwareFoundation.Python.3.11_qbz5n2kfra8p0\\LocalCache\\local-packages\\Python311\\site-packages\\keras\\src\\engine\\functional.py:642: UserWarning: Input dict contained keys ['longitude', 'latitude', 'housing_median_age', 'total_bedrooms', 'population', 'households', 'median_house_value'] which did not match any model input. They will be ignored by the model.\n",
            "  inputs = self._flatten_to_reference_inputs(inputs)\n"
          ]
        },
        {
          "name": "stdout",
          "output_type": "stream",
          "text": [
            "WARNING:tensorflow:From C:\\Users\\Kasper K. Lassen\\AppData\\Local\\Packages\\PythonSoftwareFoundation.Python.3.11_qbz5n2kfra8p0\\LocalCache\\local-packages\\Python311\\site-packages\\keras\\src\\utils\\tf_utils.py:492: The name tf.ragged.RaggedTensorValue is deprecated. Please use tf.compat.v1.ragged.RaggedTensorValue instead.\n",
            "\n",
            "170/170 [==============================] - 3s 6ms/step - loss: 0.9412 - accuracy: 0.1866\n",
            "Epoch 2/20\n",
            "170/170 [==============================] - 1s 7ms/step - loss: 0.8419 - accuracy: 0.2011\n",
            "Epoch 3/20\n",
            "170/170 [==============================] - 1s 7ms/step - loss: 0.7559 - accuracy: 0.2331\n",
            "Epoch 4/20\n",
            "170/170 [==============================] - 1s 6ms/step - loss: 0.6831 - accuracy: 0.3192\n",
            "Epoch 5/20\n",
            "170/170 [==============================] - 1s 6ms/step - loss: 0.6214 - accuracy: 0.5586\n",
            "Epoch 6/20\n",
            "170/170 [==============================] - 1s 6ms/step - loss: 0.5707 - accuracy: 0.7096\n",
            "Epoch 7/20\n",
            "170/170 [==============================] - 1s 6ms/step - loss: 0.5302 - accuracy: 0.7615\n",
            "Epoch 8/20\n",
            "170/170 [==============================] - 1s 7ms/step - loss: 0.4979 - accuracy: 0.7984\n",
            "Epoch 9/20\n",
            "170/170 [==============================] - 1s 4ms/step - loss: 0.4714 - accuracy: 0.8194\n",
            "Epoch 10/20\n",
            "170/170 [==============================] - 1s 6ms/step - loss: 0.4505 - accuracy: 0.8242\n",
            "Epoch 11/20\n",
            "170/170 [==============================] - 1s 6ms/step - loss: 0.4344 - accuracy: 0.8222\n",
            "Epoch 12/20\n",
            "170/170 [==============================] - 1s 5ms/step - loss: 0.4218 - accuracy: 0.8208\n",
            "Epoch 13/20\n",
            "170/170 [==============================] - 1s 5ms/step - loss: 0.4125 - accuracy: 0.8155\n",
            "Epoch 14/20\n",
            "170/170 [==============================] - 1s 5ms/step - loss: 0.4060 - accuracy: 0.8142\n",
            "Epoch 15/20\n",
            "170/170 [==============================] - 1s 6ms/step - loss: 0.4018 - accuracy: 0.8116\n",
            "Epoch 16/20\n",
            "170/170 [==============================] - 1s 5ms/step - loss: 0.3992 - accuracy: 0.8104\n",
            "Epoch 17/20\n",
            "170/170 [==============================] - 1s 5ms/step - loss: 0.3980 - accuracy: 0.8093\n",
            "Epoch 18/20\n",
            "170/170 [==============================] - 1s 5ms/step - loss: 0.3973 - accuracy: 0.8087\n",
            "Epoch 19/20\n",
            "170/170 [==============================] - 1s 5ms/step - loss: 0.3970 - accuracy: 0.8087\n",
            "Epoch 20/20\n",
            "170/170 [==============================] - 1s 4ms/step - loss: 0.3968 - accuracy: 0.8088\n"
          ]
        },
        {
          "data": {
            "image/png": "[encoded data removed]",
            "text/plain": [
              "<Figure size 640x480 with 1 Axes>"
            ]
          },
          "metadata": {},
          "output_type": "display_data"
        }
      ],
      "source": [
        "# The following variables are the hyperparameters.\n",
        "learning_rate = 0.001\n",
        "epochs = 20\n",
        "batch_size = 100\n",
        "label_name = \"median_house_value_is_high\"\n",
        "classification_threshold = 0.35\n",
        "\n",
        "# Establish the metrics the model will measure.\n",
        "METRICS = [\n",
        "           tf.keras.metrics.BinaryAccuracy(name='accuracy',\n",
        "                                           threshold=classification_threshold),\n",
        "          ]\n",
        "\n",
        "# Establish the model's topography.\n",
        "my_model = create_model(inputs, learning_rate, METRICS)\n",
        "\n",
        "# To view a PNG of this model's layers, uncomment the call to\n",
        "# `tf.keras.utils.plot_model` below. After running this code cell, click\n",
        "# the file folder on the left, then the `my_classification_model.png` file.\n",
        "# tf.keras.utils.plot_model(my_model, \"my_classification_model.png\")\n",
        "\n",
        "# Train the model on the training set.\n",
        "epochs, hist = train_model(my_model, train_df_norm, epochs,\n",
        "                           label_name, batch_size)\n",
        "\n",
        "# Plot a graph of the metric(s) vs. epochs.\n",
        "list_of_metrics_to_plot = ['accuracy']\n",
        "\n",
        "plot_curve(epochs, hist, list_of_metrics_to_plot)"
      ]
    },
    {
      "cell_type": "markdown",
      "metadata": {
        "id": "FF64TpqkbOpn"
      },
      "source": [
        "Accuracy should gradually improve during training (until it can\n",
        "improve no more)."
      ]
    },
    {
      "cell_type": "markdown",
      "metadata": {
        "id": "1xNqWWos_zyk"
      },
      "source": [
        "## Evaluate the model against the test set\n",
        "\n",
        "At the end of model training, you ended up with a certain accuracy against the *training set*. Invoke the following code cell to determine your model's accuracy against the *test set*."
      ]
    },
    {
      "cell_type": "code",
      "execution_count": 11,
      "metadata": {
        "id": "eJorkMlDmtHf"
      },
      "outputs": [
        {
          "name": "stdout",
          "output_type": "stream",
          "text": [
            "30/30 [==============================] - 0s 4ms/step - loss: 0.4069 - accuracy: 0.8040\n"
          ]
        },
        {
          "data": {
            "text/plain": [
              "[0.40692704916000366, 0.8040000200271606]"
            ]
          },
          "execution_count": 11,
          "metadata": {},
          "output_type": "execute_result"
        }
      ],
      "source": [
        "features = {name:np.array(value) for name, value in test_df_norm.items()}\n",
        "label = np.array(features.pop(label_name))\n",
        "\n",
        "my_model.evaluate(x = features, y = label, batch_size=batch_size)"
      ]
    },
    {
      "cell_type": "markdown",
      "metadata": {
        "id": "q7cHkFXalXV5"
      },
      "source": [
        "## Task 2: How accurate is your model really?\n",
        "\n",
        "Is your model valuable?"
      ]
    },
    {
      "cell_type": "code",
      "execution_count": null,
      "metadata": {
        "id": "rUvCrQkulwjV"
      },
      "outputs": [],
      "source": [
        "#@title Double-click for a possible answer to Task 2.\n",
        "\n",
        "# A perfect model would make 100% accurate predictions.\n",
        "# Our model makes 80% accurate predictions. 80% sounds\n",
        "# good, but note that a model that always guesses\n",
        "# \"median_house_value_is_high is False\" would be 75%\n",
        "# accurate."
      ]
    },
    {
      "cell_type": "markdown",
      "metadata": {
        "id": "C8crSCCVf6gm"
      },
      "source": [
        "## Task 3: Add precision and recall as metrics\n",
        "\n",
        "Relying solely on accuracy, particularly for a class-imbalanced data set (like ours), can be a poor way to judge a classification model.  Modify the code in the following code cell to enable the model to measure not only accuracy but also precision and recall. We have\n",
        "added accuracy and precision; your task is to add recall. See the [TensorFlow Reference](https://www.tensorflow.org/api_docs/python/tf/keras/metrics/Recall) for details.\n",
        "\n"
      ]
    },
    {
      "cell_type": "code",
      "execution_count": 15,
      "metadata": {
        "id": "r-k1MD2XArmO"
      },
      "outputs": [
        {
          "name": "stdout",
          "output_type": "stream",
          "text": [
            "Epoch 1/20\n"
          ]
        },
        {
          "name": "stderr",
          "output_type": "stream",
          "text": [
            "C:\\Users\\Kasper K. Lassen\\AppData\\Local\\Packages\\PythonSoftwareFoundation.Python.3.11_qbz5n2kfra8p0\\LocalCache\\local-packages\\Python311\\site-packages\\keras\\src\\engine\\functional.py:642: UserWarning: Input dict contained keys ['longitude', 'latitude', 'housing_median_age', 'total_bedrooms', 'population', 'households', 'median_house_value'] which did not match any model input. They will be ignored by the model.\n",
            "  inputs = self._flatten_to_reference_inputs(inputs)\n"
          ]
        },
        {
          "name": "stdout",
          "output_type": "stream",
          "text": [
            "170/170 [==============================] - 2s 6ms/step - loss: 0.7764 - accuracy: 0.2079 - precision: 0.2015 - recall: 0.7328\n",
            "Epoch 2/20\n",
            "170/170 [==============================] - 1s 6ms/step - loss: 0.6796 - accuracy: 0.2257 - precision: 0.2272 - recall: 0.8743\n",
            "Epoch 3/20\n",
            "170/170 [==============================] - 1s 7ms/step - loss: 0.6039 - accuracy: 0.2659 - precision: 0.2534 - recall: 0.9962\n",
            "Epoch 4/20\n",
            "170/170 [==============================] - 1s 6ms/step - loss: 0.5465 - accuracy: 0.6408 - precision: 0.3969 - recall: 0.8427\n",
            "Epoch 5/20\n",
            "170/170 [==============================] - 1s 6ms/step - loss: 0.5036 - accuracy: 0.7731 - precision: 0.5365 - recall: 0.6741\n",
            "Epoch 6/20\n",
            "170/170 [==============================] - 1s 5ms/step - loss: 0.4713 - accuracy: 0.8009 - precision: 0.6000 - recall: 0.6096\n",
            "Epoch 7/20\n",
            "170/170 [==============================] - 1s 6ms/step - loss: 0.4479 - accuracy: 0.8105 - precision: 0.6284 - recall: 0.5910\n",
            "Epoch 8/20\n",
            "170/170 [==============================] - 1s 6ms/step - loss: 0.4308 - accuracy: 0.8144 - precision: 0.6393 - recall: 0.5894\n",
            "Epoch 9/20\n",
            "170/170 [==============================] - 1s 6ms/step - loss: 0.4187 - accuracy: 0.8145 - precision: 0.6389 - recall: 0.5924\n",
            "Epoch 10/20\n",
            "170/170 [==============================] - 1s 6ms/step - loss: 0.4103 - accuracy: 0.8138 - precision: 0.6355 - recall: 0.5976\n",
            "Epoch 11/20\n",
            "170/170 [==============================] - 1s 6ms/step - loss: 0.4046 - accuracy: 0.8129 - precision: 0.6315 - recall: 0.6032\n",
            "Epoch 12/20\n",
            "170/170 [==============================] - 1s 6ms/step - loss: 0.4012 - accuracy: 0.8104 - precision: 0.6230 - recall: 0.6105\n",
            "Epoch 13/20\n",
            "170/170 [==============================] - 1s 6ms/step - loss: 0.3991 - accuracy: 0.8095 - precision: 0.6205 - recall: 0.6117\n",
            "Epoch 14/20\n",
            "170/170 [==============================] - 1s 4ms/step - loss: 0.3979 - accuracy: 0.8088 - precision: 0.6180 - recall: 0.6146\n",
            "Epoch 15/20\n",
            "170/170 [==============================] - 1s 6ms/step - loss: 0.3973 - accuracy: 0.8096 - precision: 0.6202 - recall: 0.6136\n",
            "Epoch 16/20\n",
            "170/170 [==============================] - 1s 6ms/step - loss: 0.3970 - accuracy: 0.8087 - precision: 0.6176 - recall: 0.6150\n",
            "Epoch 17/20\n",
            "170/170 [==============================] - 1s 7ms/step - loss: 0.3968 - accuracy: 0.8088 - precision: 0.6179 - recall: 0.6150\n",
            "Epoch 18/20\n",
            "170/170 [==============================] - 1s 6ms/step - loss: 0.3967 - accuracy: 0.8087 - precision: 0.6176 - recall: 0.6150\n",
            "Epoch 19/20\n",
            "170/170 [==============================] - 1s 6ms/step - loss: 0.3967 - accuracy: 0.8082 - precision: 0.6162 - recall: 0.6157\n",
            "Epoch 20/20\n",
            "170/170 [==============================] - 1s 5ms/step - loss: 0.3966 - accuracy: 0.8095 - precision: 0.6199 - recall: 0.6136\n"
          ]
        },
        {
          "data": {
            "image/png": "[encoded data removed]",
            "text/plain": [
              "<Figure size 640x480 with 1 Axes>"
            ]
          },
          "metadata": {},
          "output_type": "display_data"
        }
      ],
      "source": [
        "# The following variables are the hyperparameters.\n",
        "learning_rate = 0.001\n",
        "epochs = 20\n",
        "batch_size = 100\n",
        "classification_threshold = 0.35\n",
        "label_name = \"median_house_value_is_high\"\n",
        "\n",
        "# Modify the following definition of METRICS to generate\n",
        "# not only accuracy and precision, but also recall:\n",
        "METRICS = [\n",
        "      tf.keras.metrics.BinaryAccuracy(name='accuracy',\n",
        "                                      threshold=classification_threshold),\n",
        "      tf.keras.metrics.Precision(thresholds=classification_threshold,\n",
        "                                 name='precision'\n",
        "                                 ),\n",
        "      tf.keras.metrics.Recall(\n",
        "            thresholds=classification_threshold, name='recall'\n",
        "      )\n",
        "]\n",
        "\n",
        "# Establish the model's topography.\n",
        "my_model = create_model(inputs, learning_rate, METRICS)\n",
        "\n",
        "# Train the model on the training set.\n",
        "epochs, hist = train_model(my_model, train_df_norm, epochs,\n",
        "                           label_name, batch_size)\n",
        "\n",
        "# Plot metrics vs. epochs\n",
        "list_of_metrics_to_plot = ['accuracy', 'precision', 'recall']\n",
        "plot_curve(epochs, hist, list_of_metrics_to_plot)"
      ]
    },
    {
      "cell_type": "code",
      "execution_count": 16,
      "metadata": {
        "cellView": "form",
        "id": "Ax87gOyDBhAu"
      },
      "outputs": [
        {
          "name": "stdout",
          "output_type": "stream",
          "text": [
            "Epoch 1/20\n",
            "170/170 [==============================] - 3s 4ms/step - loss: 0.6132 - accuracy: 0.6095 - precision: 0.3784 - recall: 0.8757\n",
            "Epoch 2/20\n",
            "170/170 [==============================] - 1s 7ms/step - loss: 0.5608 - accuracy: 0.6475 - precision: 0.4026 - recall: 0.8493\n",
            "Epoch 3/20\n",
            "170/170 [==============================] - 1s 7ms/step - loss: 0.5160 - accuracy: 0.6834 - precision: 0.4299 - recall: 0.8196\n",
            "Epoch 4/20\n",
            "170/170 [==============================] - 1s 7ms/step - loss: 0.4793 - accuracy: 0.7130 - precision: 0.4567 - recall: 0.7853\n",
            "Epoch 5/20\n",
            "170/170 [==============================] - 1s 6ms/step - loss: 0.4503 - accuracy: 0.7378 - precision: 0.4839 - recall: 0.7455\n",
            "Epoch 6/20\n",
            "170/170 [==============================] - 1s 8ms/step - loss: 0.4282 - accuracy: 0.7610 - precision: 0.5157 - recall: 0.7106\n",
            "Epoch 7/20\n",
            "170/170 [==============================] - 1s 7ms/step - loss: 0.4129 - accuracy: 0.7794 - precision: 0.5471 - recall: 0.6802\n",
            "Epoch 8/20\n",
            "170/170 [==============================] - 1s 6ms/step - loss: 0.4040 - accuracy: 0.7931 - precision: 0.5751 - recall: 0.6572\n",
            "Epoch 9/20\n",
            "170/170 [==============================] - 1s 6ms/step - loss: 0.3998 - accuracy: 0.8014 - precision: 0.5965 - recall: 0.6341\n",
            "Epoch 10/20\n",
            "170/170 [==============================] - 1s 6ms/step - loss: 0.3981 - accuracy: 0.8049 - precision: 0.6061 - recall: 0.6256\n",
            "Epoch 11/20\n",
            "170/170 [==============================] - 1s 7ms/step - loss: 0.3973 - accuracy: 0.8068 - precision: 0.6115 - recall: 0.6209\n",
            "Epoch 12/20\n",
            "170/170 [==============================] - 1s 6ms/step - loss: 0.3970 - accuracy: 0.8075 - precision: 0.6142 - recall: 0.6171\n",
            "Epoch 13/20\n",
            "170/170 [==============================] - 1s 7ms/step - loss: 0.3968 - accuracy: 0.8084 - precision: 0.6167 - recall: 0.6160\n",
            "Epoch 14/20\n",
            "170/170 [==============================] - 1s 6ms/step - loss: 0.3967 - accuracy: 0.8088 - precision: 0.6177 - recall: 0.6155\n",
            "Epoch 15/20\n",
            "170/170 [==============================] - 1s 6ms/step - loss: 0.3966 - accuracy: 0.8093 - precision: 0.6192 - recall: 0.6148\n",
            "Epoch 16/20\n",
            "170/170 [==============================] - 1s 5ms/step - loss: 0.3966 - accuracy: 0.8089 - precision: 0.6180 - recall: 0.6153\n",
            "Epoch 17/20\n",
            "170/170 [==============================] - 1s 6ms/step - loss: 0.3966 - accuracy: 0.8098 - precision: 0.6209 - recall: 0.6129\n",
            "Epoch 18/20\n",
            "170/170 [==============================] - 1s 5ms/step - loss: 0.3966 - accuracy: 0.8087 - precision: 0.6176 - recall: 0.6153\n",
            "Epoch 19/20\n",
            "170/170 [==============================] - 1s 6ms/step - loss: 0.3966 - accuracy: 0.8089 - precision: 0.6182 - recall: 0.6146\n",
            "Epoch 20/20\n",
            "170/170 [==============================] - 1s 4ms/step - loss: 0.3966 - accuracy: 0.8098 - precision: 0.6209 - recall: 0.6129\n"
          ]
        },
        {
          "data": {
            "image/png": "[encoded data removed]",
            "text/plain": [
              "<Figure size 640x480 with 1 Axes>"
            ]
          },
          "metadata": {},
          "output_type": "display_data"
        }
      ],
      "source": [
        "#@title Double-click to view the solution for Task 3.\n",
        "\n",
        "# The following variables are the hyperparameters.\n",
        "learning_rate = 0.001\n",
        "epochs = 20\n",
        "batch_size = 100\n",
        "classification_threshold = 0.35\n",
        "label_name = \"median_house_value_is_high\"\n",
        "\n",
        "# Here is the updated definition of METRICS:\n",
        "METRICS = [\n",
        "      tf.keras.metrics.BinaryAccuracy(name='accuracy',\n",
        "                                      threshold=classification_threshold),\n",
        "      tf.keras.metrics.Precision(thresholds=classification_threshold,\n",
        "                                 name='precision'\n",
        "                                 ),\n",
        "      tf.keras.metrics.Recall(thresholds=classification_threshold,\n",
        "                              name=\"recall\"),\n",
        "]\n",
        "\n",
        "# Establish the model's topography.\n",
        "my_model = create_model(inputs, learning_rate, METRICS)\n",
        "\n",
        "# Train the model on the training set.\n",
        "epochs, hist = train_model(my_model, train_df_norm, epochs,\n",
        "                           label_name, batch_size)\n",
        "\n",
        "# Plot metrics vs. epochs\n",
        "list_of_metrics_to_plot = ['accuracy', \"precision\", \"recall\"]\n",
        "plot_curve(epochs, hist, list_of_metrics_to_plot)\n",
        "\n",
        "\n",
        "# The new graphs suggest that precision and recall are\n",
        "# somewhat in conflict. That is, improvements to one of\n",
        "# those metrics may hurt the other metric."
      ]
    },
    {
      "cell_type": "markdown",
      "metadata": {
        "id": "cAsB85iKSXLe"
      },
      "source": [
        "## Task 4: Experiment with the classification threshold (if time permits)\n",
        "\n",
        "Experiment with different values for `classification_threshold` in the code cell within \"Invoke the creating, training, and plotting functions.\"  What value of `classification_threshold` produces the highest accuracy?"
      ]
    },
    {
      "cell_type": "code",
      "execution_count": 19,
      "metadata": {
        "cellView": "form",
        "id": "FLPDYI7Sphnj"
      },
      "outputs": [
        {
          "name": "stdout",
          "output_type": "stream",
          "text": [
            "Epoch 1/20\n",
            "170/170 [==============================] - 3s 5ms/step - loss: 1.1367 - accuracy: 0.2266 - precision: 0.1423 - recall: 0.4168\n",
            "Epoch 2/20\n",
            "170/170 [==============================] - 1s 6ms/step - loss: 0.9970 - accuracy: 0.2312 - precision: 0.1357 - recall: 0.3871\n",
            "Epoch 3/20\n",
            "170/170 [==============================] - 1s 6ms/step - loss: 0.8735 - accuracy: 0.2461 - precision: 0.1287 - recall: 0.3497\n",
            "Epoch 4/20\n",
            "170/170 [==============================] - 1s 6ms/step - loss: 0.7670 - accuracy: 0.2746 - precision: 0.1135 - recall: 0.2795\n",
            "Epoch 5/20\n",
            "170/170 [==============================] - 1s 7ms/step - loss: 0.6788 - accuracy: 0.3648 - precision: 0.0828 - recall: 0.1530\n",
            "Epoch 6/20\n",
            "170/170 [==============================] - 1s 7ms/step - loss: 0.6091 - accuracy: 0.6595 - precision: 0.0475 - recall: 0.0191\n",
            "Epoch 7/20\n",
            "170/170 [==============================] - 1s 6ms/step - loss: 0.5551 - accuracy: 0.7536 - precision: 1.0000 - recall: 0.0137\n",
            "Epoch 8/20\n",
            "170/170 [==============================] - 1s 6ms/step - loss: 0.5148 - accuracy: 0.7915 - precision: 0.8815 - recall: 0.1910\n",
            "Epoch 9/20\n",
            "170/170 [==============================] - 1s 6ms/step - loss: 0.4851 - accuracy: 0.8185 - precision: 0.7994 - recall: 0.3650\n",
            "Epoch 10/20\n",
            "170/170 [==============================] - 1s 5ms/step - loss: 0.4615 - accuracy: 0.8252 - precision: 0.7383 - recall: 0.4650\n",
            "Epoch 11/20\n",
            "170/170 [==============================] - 1s 6ms/step - loss: 0.4427 - accuracy: 0.8258 - precision: 0.7041 - recall: 0.5223\n",
            "Epoch 12/20\n",
            "170/170 [==============================] - 1s 8ms/step - loss: 0.4283 - accuracy: 0.8224 - precision: 0.6757 - recall: 0.5555\n",
            "Epoch 13/20\n",
            "170/170 [==============================] - 1s 6ms/step - loss: 0.4174 - accuracy: 0.8174 - precision: 0.6515 - recall: 0.5788\n",
            "Epoch 14/20\n",
            "170/170 [==============================] - 1s 6ms/step - loss: 0.4093 - accuracy: 0.8148 - precision: 0.6391 - recall: 0.5943\n",
            "Epoch 15/20\n",
            "170/170 [==============================] - 1s 6ms/step - loss: 0.4039 - accuracy: 0.8134 - precision: 0.6329 - recall: 0.6028\n",
            "Epoch 16/20\n",
            "170/170 [==============================] - 1s 6ms/step - loss: 0.4005 - accuracy: 0.8114 - precision: 0.6262 - recall: 0.6080\n",
            "Epoch 17/20\n",
            "170/170 [==============================] - 1s 5ms/step - loss: 0.3987 - accuracy: 0.8099 - precision: 0.6214 - recall: 0.6117\n",
            "Epoch 18/20\n",
            "170/170 [==============================] - 1s 6ms/step - loss: 0.3977 - accuracy: 0.8092 - precision: 0.6193 - recall: 0.6129\n",
            "Epoch 19/20\n",
            "170/170 [==============================] - 1s 6ms/step - loss: 0.3971 - accuracy: 0.8087 - precision: 0.6175 - recall: 0.6155\n",
            "Epoch 20/20\n",
            "170/170 [==============================] - 1s 6ms/step - loss: 0.3969 - accuracy: 0.8088 - precision: 0.6178 - recall: 0.6150\n"
          ]
        },
        {
          "data": {
            "image/png": "[encoded data removed]",
            "text/plain": [
              "<Figure size 640x480 with 1 Axes>"
            ]
          },
          "metadata": {},
          "output_type": "display_data"
        }
      ],
      "source": [
        "#@title Double-click to view the solution for Task 4.\n",
        "\n",
        "# The following variables are the hyperparameters.\n",
        "learning_rate = 0.001\n",
        "epochs = 20\n",
        "batch_size = 100\n",
        "classification_threshold = 0.35\n",
        "label_name = \"median_house_value_is_high\"\n",
        "\n",
        "# Here is the updated definition of METRICS:\n",
        "METRICS = [\n",
        "      tf.keras.metrics.BinaryAccuracy(name='accuracy',\n",
        "                                      threshold=classification_threshold),\n",
        "      tf.keras.metrics.Precision(thresholds=classification_threshold,\n",
        "                                 name='precision'\n",
        "                                 ),\n",
        "      tf.keras.metrics.Recall(thresholds=classification_threshold,\n",
        "                              name=\"recall\"),\n",
        "]\n",
        "\n",
        "# Establish the model's topography.\n",
        "my_model = create_model(inputs, learning_rate, METRICS)\n",
        "\n",
        "# Train the model on the training set.\n",
        "epochs, hist = train_model(my_model, train_df_norm, epochs,\n",
        "                           label_name, batch_size)\n",
        "\n",
        "# Plot metrics vs. epochs\n",
        "list_of_metrics_to_plot = ['accuracy', \"precision\", \"recall\"]\n",
        "plot_curve(epochs, hist, list_of_metrics_to_plot)\n",
        "\n",
        "# A `classification_threshold` of slightly over 0.5\n",
        "# appears to produce the highest accuracy (about 83%).\n",
        "# Raising the `classification_threshold` to 0.9 drops\n",
        "# accuracy by about 5%.  Lowering the\n",
        "# `classification_threshold` to 0.3 drops accuracy by\n",
        "# about 3%."
      ]
    },
    {
      "cell_type": "markdown",
      "metadata": {
        "id": "XBGRS0Ndduus"
      },
      "source": [
        "## Task 5: Summarize model performance (if time permits)\n",
        "\n",
        "If time permits, add one more metric that attempts to summarize the model's overall performance."
      ]
    },
    {
      "cell_type": "code",
      "execution_count": 22,
      "metadata": {
        "cellView": "form",
        "id": "vwNE6syoFvWe"
      },
      "outputs": [
        {
          "name": "stdout",
          "output_type": "stream",
          "text": [
            "Epoch 1/20\n"
          ]
        },
        {
          "name": "stderr",
          "output_type": "stream",
          "text": [
            "C:\\Users\\Kasper K. Lassen\\AppData\\Local\\Packages\\PythonSoftwareFoundation.Python.3.11_qbz5n2kfra8p0\\LocalCache\\local-packages\\Python311\\site-packages\\keras\\src\\engine\\functional.py:642: UserWarning: Input dict contained keys ['longitude', 'latitude', 'housing_median_age', 'total_bedrooms', 'population', 'households', 'median_house_value'] which did not match any model input. They will be ignored by the model.\n",
            "  inputs = self._flatten_to_reference_inputs(inputs)\n"
          ]
        },
        {
          "name": "stdout",
          "output_type": "stream",
          "text": [
            "170/170 [==============================] - 3s 5ms/step - loss: 0.5466 - AUC: 0.8357 - Precision: 0.4968 - Recall: 0.7424\n",
            "Epoch 2/20\n",
            "170/170 [==============================] - 1s 5ms/step - loss: 0.5041 - AUC: 0.8364 - Precision: 0.5445 - Recall: 0.6897\n",
            "Epoch 3/20\n",
            "170/170 [==============================] - 1s 7ms/step - loss: 0.4716 - AUC: 0.8364 - Precision: 0.5830 - Recall: 0.6541\n",
            "Epoch 4/20\n",
            "170/170 [==============================] - 1s 6ms/step - loss: 0.4472 - AUC: 0.8364 - Precision: 0.6171 - Recall: 0.6162\n",
            "Epoch 5/20\n",
            "170/170 [==============================] - 1s 6ms/step - loss: 0.4288 - AUC: 0.8364 - Precision: 0.6470 - Recall: 0.5901\n",
            "Epoch 6/20\n",
            "170/170 [==============================] - 1s 6ms/step - loss: 0.4157 - AUC: 0.8365 - Precision: 0.6781 - Recall: 0.5585\n",
            "Epoch 7/20\n",
            "170/170 [==============================] - 1s 7ms/step - loss: 0.4067 - AUC: 0.8368 - Precision: 0.7067 - Recall: 0.5310\n",
            "Epoch 8/20\n",
            "170/170 [==============================] - 1s 6ms/step - loss: 0.4017 - AUC: 0.8367 - Precision: 0.7392 - Recall: 0.5119\n",
            "Epoch 9/20\n",
            "170/170 [==============================] - 1s 6ms/step - loss: 0.3991 - AUC: 0.8369 - Precision: 0.7483 - Recall: 0.4992\n",
            "Epoch 10/20\n",
            "170/170 [==============================] - 1s 6ms/step - loss: 0.3977 - AUC: 0.8368 - Precision: 0.7548 - Recall: 0.4928\n",
            "Epoch 11/20\n",
            "170/170 [==============================] - 1s 7ms/step - loss: 0.3972 - AUC: 0.8369 - Precision: 0.7628 - Recall: 0.4883\n",
            "Epoch 12/20\n",
            "170/170 [==============================] - 1s 7ms/step - loss: 0.3969 - AUC: 0.8370 - Precision: 0.7633 - Recall: 0.4883\n",
            "Epoch 13/20\n",
            "170/170 [==============================] - 1s 7ms/step - loss: 0.3967 - AUC: 0.8368 - Precision: 0.7612 - Recall: 0.4893\n",
            "Epoch 14/20\n",
            "170/170 [==============================] - 1s 7ms/step - loss: 0.3967 - AUC: 0.8367 - Precision: 0.7636 - Recall: 0.4891\n",
            "Epoch 15/20\n",
            "170/170 [==============================] - 1s 6ms/step - loss: 0.3966 - AUC: 0.8369 - Precision: 0.7634 - Recall: 0.4879\n",
            "Epoch 16/20\n",
            "170/170 [==============================] - 1s 6ms/step - loss: 0.3966 - AUC: 0.8369 - Precision: 0.7601 - Recall: 0.4909\n",
            "Epoch 17/20\n",
            "170/170 [==============================] - 1s 6ms/step - loss: 0.3966 - AUC: 0.8369 - Precision: 0.7636 - Recall: 0.4876\n",
            "Epoch 18/20\n",
            "170/170 [==============================] - 1s 6ms/step - loss: 0.3966 - AUC: 0.8370 - Precision: 0.7618 - Recall: 0.4888\n",
            "Epoch 19/20\n",
            "170/170 [==============================] - 1s 6ms/step - loss: 0.3966 - AUC: 0.8369 - Precision: 0.7613 - Recall: 0.4898\n",
            "Epoch 20/20\n",
            "170/170 [==============================] - 1s 6ms/step - loss: 0.3966 - AUC: 0.8368 - Precision: 0.7587 - Recall: 0.4902\n"
          ]
        },
        {
          "data": {
            "image/png": "[encoded data removed]",
            "text/plain": [
              "<Figure size 640x480 with 1 Axes>"
            ]
          },
          "metadata": {},
          "output_type": "display_data"
        }
      ],
      "source": [
        "#@title Double-click to view the solution for Task 5.\n",
        "\n",
        "# The following variables are the hyperparameters.\n",
        "learning_rate = 0.001\n",
        "epochs = 20\n",
        "batch_size = 100\n",
        "label_name = \"median_house_value_is_high\"\n",
        "\n",
        "# AUC is a reasonable \"summary\" metric for\n",
        "# classification models.\n",
        "# Here is the updated definition of METRICS to\n",
        "# measure AUC:\n",
        "METRICS = [\n",
        "      tf.keras.metrics.AUC(num_thresholds=100, name='AUC'),\n",
        "      tf.keras.metrics.Precision(name='Precision'),\n",
        "      tf.keras.metrics.Recall(name='Recall')\n",
        "]\n",
        "\n",
        "# Establish the model's topography.\n",
        "my_model = create_model(inputs, learning_rate, METRICS)\n",
        "\n",
        "# Train the model on the training set.\n",
        "epochs, hist = train_model(my_model, train_df_norm, epochs,\n",
        "                           label_name, batch_size)\n",
        "\n",
        "# Plot metrics vs. epochs\n",
        "list_of_metrics_to_plot = ['AUC', 'Precision', 'Recall']\n",
        "plot_curve(epochs, hist, list_of_metrics_to_plot)"
      ]
    }
  ],
  "metadata": {
    "colab": {
      "name": "Binary Classification.ipynb",
      "private_outputs": true,
      "provenance": []
    },
    "kernelspec": {
      "display_name": "Python 3",
      "name": "python3"
    },
    "language_info": {
      "codemirror_mode": {
        "name": "ipython",
        "version": 3
      },
      "file_extension": ".py",
      "mimetype": "text/x-python",
      "name": "python",
      "nbconvert_exporter": "python",
      "pygments_lexer": "ipython3",
      "version": "3.11.7"
    }
  },
  "nbformat": 4,
  "nbformat_minor": 0
}
